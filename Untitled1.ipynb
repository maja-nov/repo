{
 "cells": [
  {
   "cell_type": "code",
   "execution_count": 18,
   "id": "1a6b5acd",
   "metadata": {},
   "outputs": [],
   "source": [
    "import os\n",
    "os.environ[\"DJANGO_ALLOW_ASYNC_UNSAFE\"] = \"true\""
   ]
  },
  {
   "cell_type": "code",
   "execution_count": 19,
   "id": "08704209",
   "metadata": {},
   "outputs": [],
   "source": [
    "from polls.models import Poll"
   ]
  },
  {
   "cell_type": "code",
   "execution_count": 20,
   "id": "cacae695",
   "metadata": {},
   "outputs": [
    {
     "data": {
      "text/plain": [
       "<QuerySet []>"
      ]
     },
     "execution_count": 20,
     "metadata": {},
     "output_type": "execute_result"
    }
   ],
   "source": [
    "Poll.objects.all()"
   ]
  },
  {
   "cell_type": "code",
   "execution_count": 21,
   "id": "bfbcf3b6",
   "metadata": {},
   "outputs": [
    {
     "data": {
      "text/plain": [
       "<Poll: Poll object (1)>"
      ]
     },
     "execution_count": 21,
     "metadata": {},
     "output_type": "execute_result"
    }
   ],
   "source": [
    "Poll.objects.create(name='Maja')"
   ]
  },
  {
   "cell_type": "code",
   "execution_count": 23,
   "id": "6556f755",
   "metadata": {},
   "outputs": [],
   "source": [
    "p=Poll(name='Ala')\n",
    "p.save()"
   ]
  },
  {
   "cell_type": "code",
   "execution_count": 26,
   "id": "5f63c52b",
   "metadata": {},
   "outputs": [],
   "source": [
    "polls = Poll.objects.all()"
   ]
  },
  {
   "cell_type": "code",
   "execution_count": 28,
   "id": "59345c0e",
   "metadata": {},
   "outputs": [
    {
     "data": {
      "text/plain": [
       "<Poll: Poll object (3)>"
      ]
     },
     "execution_count": 28,
     "metadata": {},
     "output_type": "execute_result"
    }
   ],
   "source": [
    "polls[2]"
   ]
  },
  {
   "cell_type": "code",
   "execution_count": 30,
   "id": "e3ca7aa2",
   "metadata": {
    "scrolled": true
   },
   "outputs": [
    {
     "name": "stdout",
     "output_type": "stream",
     "text": [
      "Maja\n",
      "Ala\n",
      "Ala\n"
     ]
    }
   ],
   "source": [
    "for poll in polls:\n",
    "    print(poll.name)\n",
    "\n",
    "    "
   ]
  },
  {
   "cell_type": "code",
   "execution_count": 34,
   "id": "07c8727a",
   "metadata": {},
   "outputs": [],
   "source": [
    "m = Poll.objects.get(name=\"Maja\")\n"
   ]
  },
  {
   "cell_type": "code",
   "execution_count": 35,
   "id": "4e93f78d",
   "metadata": {},
   "outputs": [
    {
     "name": "stdout",
     "output_type": "stream",
     "text": [
      "Poll object (1)\n"
     ]
    }
   ],
   "source": [
    "print(m)\n"
   ]
  },
  {
   "cell_type": "code",
   "execution_count": 36,
   "id": "5f7e1f5f",
   "metadata": {},
   "outputs": [
    {
     "data": {
      "text/plain": [
       "'Maja'"
      ]
     },
     "execution_count": 36,
     "metadata": {},
     "output_type": "execute_result"
    }
   ],
   "source": [
    "m.name"
   ]
  },
  {
   "cell_type": "code",
   "execution_count": 37,
   "id": "a21d0db9",
   "metadata": {},
   "outputs": [
    {
     "data": {
      "text/plain": [
       "1"
      ]
     },
     "execution_count": 37,
     "metadata": {},
     "output_type": "execute_result"
    }
   ],
   "source": [
    "m.id"
   ]
  },
  {
   "cell_type": "code",
   "execution_count": 38,
   "id": "c925cb9a",
   "metadata": {},
   "outputs": [],
   "source": [
    "a_polls = Poll.objects.filter(name=\"Ala\")"
   ]
  },
  {
   "cell_type": "code",
   "execution_count": 4,
   "id": "b8e5911f",
   "metadata": {},
   "outputs": [],
   "source": [
    "import os\n",
    "os.environ[\"DJANGO_ALLOW_ASYNC_UNSAFE\"] = \"true\"\n",
    "from polls.models import Question"
   ]
  },
  {
   "cell_type": "code",
   "execution_count": 5,
   "id": "c8324a19",
   "metadata": {},
   "outputs": [
    {
     "data": {
      "text/plain": [
       "<Question: Question object (3)>"
      ]
     },
     "execution_count": 5,
     "metadata": {},
     "output_type": "execute_result"
    }
   ],
   "source": [
    "Question.objects.create(question_text=\"Do you like Django?\")\n",
    "Question.objects.create(question_text=\"Do you like Python?\")\n",
    "Question.objects.create(question_text=\"Do you like JavaScript?\")"
   ]
  },
  {
   "cell_type": "code",
   "execution_count": 6,
   "id": "c62314d9",
   "metadata": {},
   "outputs": [],
   "source": [
    "q = Question.objects.get(id=2)"
   ]
  },
  {
   "cell_type": "code",
   "execution_count": 7,
   "id": "ea7172af",
   "metadata": {},
   "outputs": [
    {
     "data": {
      "text/plain": [
       "'Do you like Python?'"
      ]
     },
     "execution_count": 7,
     "metadata": {},
     "output_type": "execute_result"
    }
   ],
   "source": [
    "q.question_text"
   ]
  },
  {
   "cell_type": "code",
   "execution_count": 8,
   "id": "eb86e61c",
   "metadata": {},
   "outputs": [],
   "source": [
    "q.question_text = \"What is your last name?\"\n",
    "q.save()\n"
   ]
  },
  {
   "cell_type": "code",
   "execution_count": 9,
   "id": "14567ed1",
   "metadata": {},
   "outputs": [
    {
     "data": {
      "text/plain": [
       "'What is your last name?'"
      ]
     },
     "execution_count": 9,
     "metadata": {},
     "output_type": "execute_result"
    }
   ],
   "source": [
    "q.question_text\n"
   ]
  },
  {
   "cell_type": "code",
   "execution_count": 10,
   "id": "58fe677a",
   "metadata": {},
   "outputs": [
    {
     "data": {
      "text/plain": [
       "<QuerySet [<Question: Question object (3)>]>"
      ]
     },
     "execution_count": 10,
     "metadata": {},
     "output_type": "execute_result"
    }
   ],
   "source": [
    "Question.objects.filter(id__gt=2)"
   ]
  },
  {
   "cell_type": "code",
   "execution_count": 11,
   "id": "7edc8450",
   "metadata": {},
   "outputs": [],
   "source": [
    "q = Question.objects.first()"
   ]
  },
  {
   "cell_type": "code",
   "execution_count": 12,
   "id": "dfa4505c",
   "metadata": {},
   "outputs": [
    {
     "ename": "AttributeError",
     "evalue": "'Question' object has no attribute 'poll'",
     "output_type": "error",
     "traceback": [
      "\u001b[1;31m---------------------------------------------------------------------------\u001b[0m",
      "\u001b[1;31mAttributeError\u001b[0m                            Traceback (most recent call last)",
      "\u001b[1;32m<ipython-input-12-748c3e816f8f>\u001b[0m in \u001b[0;36m<module>\u001b[1;34m\u001b[0m\n\u001b[1;32m----> 1\u001b[1;33m \u001b[0mq\u001b[0m\u001b[1;33m.\u001b[0m\u001b[0mpoll\u001b[0m\u001b[1;33m\u001b[0m\u001b[1;33m\u001b[0m\u001b[0m\n\u001b[0m",
      "\u001b[1;31mAttributeError\u001b[0m: 'Question' object has no attribute 'poll'"
     ]
    }
   ],
   "source": [
    "q.poll"
   ]
  },
  {
   "cell_type": "code",
   "execution_count": 13,
   "id": "458a07f7",
   "metadata": {},
   "outputs": [
    {
     "ename": "AttributeError",
     "evalue": "'Question' object has no attribute 'poll'",
     "output_type": "error",
     "traceback": [
      "\u001b[1;31m---------------------------------------------------------------------------\u001b[0m",
      "\u001b[1;31mAttributeError\u001b[0m                            Traceback (most recent call last)",
      "\u001b[1;32m<ipython-input-13-81de10521524>\u001b[0m in \u001b[0;36m<module>\u001b[1;34m\u001b[0m\n\u001b[1;32m----> 1\u001b[1;33m \u001b[0mprint\u001b[0m\u001b[1;33m(\u001b[0m\u001b[0mq\u001b[0m\u001b[1;33m.\u001b[0m\u001b[0mpoll\u001b[0m\u001b[1;33m)\u001b[0m\u001b[1;33m\u001b[0m\u001b[1;33m\u001b[0m\u001b[0m\n\u001b[0m",
      "\u001b[1;31mAttributeError\u001b[0m: 'Question' object has no attribute 'poll'"
     ]
    }
   ],
   "source": [
    "print(q.poll)"
   ]
  },
  {
   "cell_type": "code",
   "execution_count": 1,
   "id": "4ec37465",
   "metadata": {},
   "outputs": [],
   "source": [
    "import os\n",
    "os.environ[\"DJANGO_ALLOW_ASYNC_UNSAFE\"] = \"true\""
   ]
  },
  {
   "cell_type": "code",
   "execution_count": 2,
   "id": "c79e5ed3",
   "metadata": {},
   "outputs": [],
   "source": [
    "q = Question.objects.first()"
   ]
  },
  {
   "cell_type": "code",
   "execution_count": 3,
   "id": "8aadfd2a",
   "metadata": {},
   "outputs": [],
   "source": [
    "q.poll"
   ]
  },
  {
   "cell_type": "code",
   "execution_count": 4,
   "id": "cab41372",
   "metadata": {},
   "outputs": [
    {
     "name": "stdout",
     "output_type": "stream",
     "text": [
      "None\n"
     ]
    }
   ],
   "source": [
    "print(q.poll)"
   ]
  },
  {
   "cell_type": "code",
   "execution_count": 5,
   "id": "e560a025",
   "metadata": {},
   "outputs": [],
   "source": [
    "p = Poll.objects.first()"
   ]
  },
  {
   "cell_type": "code",
   "execution_count": 6,
   "id": "9ec5fa88",
   "metadata": {},
   "outputs": [],
   "source": [
    "q.poll = p \n",
    "q.save()"
   ]
  },
  {
   "cell_type": "code",
   "execution_count": 7,
   "id": "72695441",
   "metadata": {},
   "outputs": [
    {
     "data": {
      "text/plain": [
       "<Poll: Poll object (1)>"
      ]
     },
     "execution_count": 7,
     "metadata": {},
     "output_type": "execute_result"
    }
   ],
   "source": [
    "q.poll"
   ]
  },
  {
   "cell_type": "code",
   "execution_count": 8,
   "id": "072295a6",
   "metadata": {},
   "outputs": [
    {
     "data": {
      "text/plain": [
       "<Question: Question object (9)>"
      ]
     },
     "execution_count": 8,
     "metadata": {},
     "output_type": "execute_result"
    }
   ],
   "source": [
    "Question.objects.create(question_text=\"Do you like HTML?\")\n",
    "Question.objects.create(question_text=\"Do you like C++?\")\n",
    "Question.objects.create(question_text=\"Do you like SAS?\")\n",
    "Question.objects.create(question_text=\"Do you like Math?\")\n",
    "Question.objects.create(question_text=\"Do you like IT?\")\n",
    "Question.objects.create(question_text=\"Do you like Biology?\")"
   ]
  },
  {
   "cell_type": "code",
   "execution_count": 9,
   "id": "7bdef74d",
   "metadata": {},
   "outputs": [],
   "source": [
    "q2= Question.objects.all()[2]\n",
    "q3= Question.objects.all()[3]\n",
    "q4= Question.objects.all()[4]\n",
    "q5= Question.objects.all()[5]\n",
    "q6= Question.objects.all()[6]\n",
    "q7= Question.objects.all()[7]\n",
    "q8= Question.objects.all()[8]\n"
   ]
  },
  {
   "cell_type": "code",
   "execution_count": 10,
   "id": "ec863afc",
   "metadata": {},
   "outputs": [],
   "source": [
    "p1 = Poll.objects.all()[0]\n",
    "p2 = Poll.objects.all()[1]\n",
    "p3 = Poll.objects.all()[2]\n"
   ]
  },
  {
   "cell_type": "code",
   "execution_count": 11,
   "id": "bf99b9b2",
   "metadata": {},
   "outputs": [
    {
     "data": {
      "text/plain": [
       "<QuerySet [<Question: Question object (1)>]>"
      ]
     },
     "execution_count": 11,
     "metadata": {},
     "output_type": "execute_result"
    }
   ],
   "source": [
    "p1.question_set.all()"
   ]
  },
  {
   "cell_type": "code",
   "execution_count": 12,
   "id": "d98b467a",
   "metadata": {},
   "outputs": [
    {
     "data": {
      "text/plain": [
       "<QuerySet []>"
      ]
     },
     "execution_count": 12,
     "metadata": {},
     "output_type": "execute_result"
    }
   ],
   "source": [
    "p2.question_set.all()"
   ]
  },
  {
   "cell_type": "code",
   "execution_count": 14,
   "id": "82d00881",
   "metadata": {},
   "outputs": [
    {
     "data": {
      "text/plain": [
       "<QuerySet []>"
      ]
     },
     "execution_count": 14,
     "metadata": {},
     "output_type": "execute_result"
    }
   ],
   "source": [
    "p3.question_set.all()"
   ]
  },
  {
   "cell_type": "code",
   "execution_count": 15,
   "id": "785d7720",
   "metadata": {},
   "outputs": [],
   "source": [
    "q2.poll = p1"
   ]
  },
  {
   "cell_type": "code",
   "execution_count": 16,
   "id": "92a0a557",
   "metadata": {},
   "outputs": [],
   "source": [
    "q2.poll = p1"
   ]
  },
  {
   "cell_type": "code",
   "execution_count": 17,
   "id": "9a1b8c0b",
   "metadata": {},
   "outputs": [],
   "source": [
    "q3.poll = p1\n",
    "q4.poll = p2\n",
    "q5.poll = p2\n",
    "q6.poll = p3\n",
    "q7.poll = p3\n",
    "q8.poll = p3"
   ]
  },
  {
   "cell_type": "code",
   "execution_count": 1,
   "id": "8b0ca2b4",
   "metadata": {},
   "outputs": [],
   "source": [
    "import os\n",
    "os.environ[\"DJANGO_ALLOW_ASYNC_UNSAFE\"] = \"true\"\n",
    "from polls.models import Question"
   ]
  },
  {
   "cell_type": "code",
   "execution_count": 2,
   "id": "22bbac0b",
   "metadata": {},
   "outputs": [],
   "source": [
    "from polls.models import Poll\n"
   ]
  },
  {
   "cell_type": "code",
   "execution_count": 3,
   "id": "987d5485",
   "metadata": {},
   "outputs": [
    {
     "ename": "NameError",
     "evalue": "name 'p1' is not defined",
     "output_type": "error",
     "traceback": [
      "\u001b[1;31m---------------------------------------------------------------------------\u001b[0m",
      "\u001b[1;31mNameError\u001b[0m                                 Traceback (most recent call last)",
      "\u001b[1;32m<ipython-input-3-10a4eab96dec>\u001b[0m in \u001b[0;36m<module>\u001b[1;34m\u001b[0m\n\u001b[1;32m----> 1\u001b[1;33m \u001b[0mp1\u001b[0m\u001b[1;33m.\u001b[0m\u001b[0mquestions\u001b[0m\u001b[1;33m.\u001b[0m\u001b[0mall\u001b[0m\u001b[1;33m(\u001b[0m\u001b[1;33m)\u001b[0m\u001b[1;33m\u001b[0m\u001b[1;33m\u001b[0m\u001b[0m\n\u001b[0m",
      "\u001b[1;31mNameError\u001b[0m: name 'p1' is not defined"
     ]
    }
   ],
   "source": [
    "p1.questions.all()\n"
   ]
  },
  {
   "cell_type": "code",
   "execution_count": 4,
   "id": "1c89694a",
   "metadata": {},
   "outputs": [
    {
     "ename": "NameError",
     "evalue": "name 'p' is not defined",
     "output_type": "error",
     "traceback": [
      "\u001b[1;31m---------------------------------------------------------------------------\u001b[0m",
      "\u001b[1;31mNameError\u001b[0m                                 Traceback (most recent call last)",
      "\u001b[1;32m<ipython-input-4-b11c918b9917>\u001b[0m in \u001b[0;36m<module>\u001b[1;34m\u001b[0m\n\u001b[1;32m----> 1\u001b[1;33m \u001b[0mp\u001b[0m\u001b[1;33m.\u001b[0m\u001b[0mquestions\u001b[0m\u001b[1;33m.\u001b[0m\u001b[0mall\u001b[0m\u001b[1;33m(\u001b[0m\u001b[1;33m)\u001b[0m\u001b[1;33m\u001b[0m\u001b[1;33m\u001b[0m\u001b[0m\n\u001b[0m",
      "\u001b[1;31mNameError\u001b[0m: name 'p' is not defined"
     ]
    }
   ],
   "source": [
    "p.questions.all()"
   ]
  },
  {
   "cell_type": "code",
   "execution_count": 5,
   "id": "fae2608f",
   "metadata": {},
   "outputs": [],
   "source": [
    "p1 = Poll.objects.all()[0]\n",
    "p2 = Poll.objects.all()[1]\n",
    "p3 = Poll.objects.all()[2]\n"
   ]
  },
  {
   "cell_type": "code",
   "execution_count": 6,
   "id": "2e34b79e",
   "metadata": {},
   "outputs": [
    {
     "ename": "NameError",
     "evalue": "name 'p' is not defined",
     "output_type": "error",
     "traceback": [
      "\u001b[1;31m---------------------------------------------------------------------------\u001b[0m",
      "\u001b[1;31mNameError\u001b[0m                                 Traceback (most recent call last)",
      "\u001b[1;32m<ipython-input-6-b11c918b9917>\u001b[0m in \u001b[0;36m<module>\u001b[1;34m\u001b[0m\n\u001b[1;32m----> 1\u001b[1;33m \u001b[0mp\u001b[0m\u001b[1;33m.\u001b[0m\u001b[0mquestions\u001b[0m\u001b[1;33m.\u001b[0m\u001b[0mall\u001b[0m\u001b[1;33m(\u001b[0m\u001b[1;33m)\u001b[0m\u001b[1;33m\u001b[0m\u001b[1;33m\u001b[0m\u001b[0m\n\u001b[0m",
      "\u001b[1;31mNameError\u001b[0m: name 'p' is not defined"
     ]
    }
   ],
   "source": [
    "p.questions.all()"
   ]
  },
  {
   "cell_type": "code",
   "execution_count": 7,
   "id": "91aad63a",
   "metadata": {},
   "outputs": [
    {
     "data": {
      "text/plain": [
       "<QuerySet [<Question: Question object (1)>]>"
      ]
     },
     "execution_count": 7,
     "metadata": {},
     "output_type": "execute_result"
    }
   ],
   "source": [
    "p1.questions.all()"
   ]
  },
  {
   "cell_type": "code",
   "execution_count": 9,
   "id": "d2587112",
   "metadata": {},
   "outputs": [
    {
     "ename": "NameError",
     "evalue": "name 'q' is not defined",
     "output_type": "error",
     "traceback": [
      "\u001b[1;31m---------------------------------------------------------------------------\u001b[0m",
      "\u001b[1;31mNameError\u001b[0m                                 Traceback (most recent call last)",
      "\u001b[1;32m<ipython-input-9-7a5acaf14456>\u001b[0m in \u001b[0;36m<module>\u001b[1;34m\u001b[0m\n\u001b[1;32m----> 1\u001b[1;33m \u001b[0mq\u001b[0m\u001b[1;33m.\u001b[0m\u001b[0mpoll\u001b[0m \u001b[1;33m=\u001b[0m \u001b[0mp1\u001b[0m\u001b[1;33m\u001b[0m\u001b[1;33m\u001b[0m\u001b[0m\n\u001b[0m\u001b[0;32m      2\u001b[0m \u001b[0mq2\u001b[0m\u001b[1;33m.\u001b[0m\u001b[0mpoll\u001b[0m \u001b[1;33m=\u001b[0m \u001b[0mp1\u001b[0m\u001b[1;33m\u001b[0m\u001b[1;33m\u001b[0m\u001b[0m\n",
      "\u001b[1;31mNameError\u001b[0m: name 'q' is not defined"
     ]
    }
   ],
   "source": [
    "q.poll = p1\n",
    "q2.poll = p1"
   ]
  },
  {
   "cell_type": "code",
   "execution_count": 10,
   "id": "e3130e42",
   "metadata": {},
   "outputs": [],
   "source": [
    "q = Question.objects.first()"
   ]
  },
  {
   "cell_type": "code",
   "execution_count": 11,
   "id": "2f090b6f",
   "metadata": {},
   "outputs": [],
   "source": [
    "q.poll = p1"
   ]
  },
  {
   "cell_type": "code",
   "execution_count": 12,
   "id": "3c3ad0b7",
   "metadata": {},
   "outputs": [
    {
     "ename": "NameError",
     "evalue": "name 'q2' is not defined",
     "output_type": "error",
     "traceback": [
      "\u001b[1;31m---------------------------------------------------------------------------\u001b[0m",
      "\u001b[1;31mNameError\u001b[0m                                 Traceback (most recent call last)",
      "\u001b[1;32m<ipython-input-12-9292c369f143>\u001b[0m in \u001b[0;36m<module>\u001b[1;34m\u001b[0m\n\u001b[1;32m----> 1\u001b[1;33m \u001b[0mq2\u001b[0m\u001b[1;33m.\u001b[0m\u001b[0mpoll\u001b[0m \u001b[1;33m=\u001b[0m \u001b[0mp1\u001b[0m\u001b[1;33m\u001b[0m\u001b[1;33m\u001b[0m\u001b[0m\n\u001b[0m",
      "\u001b[1;31mNameError\u001b[0m: name 'q2' is not defined"
     ]
    }
   ],
   "source": [
    "q2.poll = p1"
   ]
  },
  {
   "cell_type": "code",
   "execution_count": 13,
   "id": "265c8ae6",
   "metadata": {},
   "outputs": [],
   "source": [
    "q2= Question.objects.all()[2]\n",
    "q3= Question.objects.all()[3]\n",
    "q4= Question.objects.all()[4]\n",
    "q5= Question.objects.all()[5]\n",
    "q6= Question.objects.all()[6]\n",
    "q7= Question.objects.all()[7]\n",
    "q8= Question.objects.all()[8]\n"
   ]
  },
  {
   "cell_type": "code",
   "execution_count": 14,
   "id": "13fa1f30",
   "metadata": {},
   "outputs": [],
   "source": [
    "q2.poll = p1"
   ]
  },
  {
   "cell_type": "code",
   "execution_count": 15,
   "id": "402a2a9a",
   "metadata": {},
   "outputs": [],
   "source": [
    "q3.poll = p1\n",
    "q4.poll = p2\n",
    "q5.poll = p2\n",
    "q6.poll = p3\n",
    "q7.poll = p3\n",
    "q8.poll = p3"
   ]
  },
  {
   "cell_type": "code",
   "execution_count": 16,
   "id": "0f4b3cb9",
   "metadata": {},
   "outputs": [
    {
     "data": {
      "text/plain": [
       "<QuerySet [<Question: Question object (1)>]>"
      ]
     },
     "execution_count": 16,
     "metadata": {},
     "output_type": "execute_result"
    }
   ],
   "source": [
    "p1.questions.all()"
   ]
  },
  {
   "cell_type": "code",
   "execution_count": 17,
   "id": "48c09747",
   "metadata": {},
   "outputs": [
    {
     "data": {
      "text/plain": [
       "<QuerySet []>"
      ]
     },
     "execution_count": 17,
     "metadata": {},
     "output_type": "execute_result"
    }
   ],
   "source": [
    "p2.questions.all()"
   ]
  },
  {
   "cell_type": "code",
   "execution_count": 18,
   "id": "0b2cf458",
   "metadata": {},
   "outputs": [
    {
     "data": {
      "text/plain": [
       "<QuerySet []>"
      ]
     },
     "execution_count": 18,
     "metadata": {},
     "output_type": "execute_result"
    }
   ],
   "source": [
    "p3.questions.all()"
   ]
  },
  {
   "cell_type": "code",
   "execution_count": 19,
   "id": "58fff739",
   "metadata": {},
   "outputs": [],
   "source": [
    "q3.poll = p1\n",
    "q4.poll = p2\n",
    "q5.poll = p2\n",
    "q6.poll = p3\n",
    "q7.poll = p3\n",
    "q8.poll = p3"
   ]
  },
  {
   "cell_type": "code",
   "execution_count": 20,
   "id": "7da038cf",
   "metadata": {},
   "outputs": [
    {
     "data": {
      "text/plain": [
       "<QuerySet []>"
      ]
     },
     "execution_count": 20,
     "metadata": {},
     "output_type": "execute_result"
    }
   ],
   "source": [
    "p2.questions.all()"
   ]
  },
  {
   "cell_type": "code",
   "execution_count": 1,
   "id": "0f396935",
   "metadata": {},
   "outputs": [],
   "source": [
    "import os\n",
    "os.environ[\"DJANGO_ALLOW_ASYNC_UNSAFE\"] = \"true\""
   ]
  },
  {
   "cell_type": "code",
   "execution_count": 2,
   "id": "1dfd3aef",
   "metadata": {},
   "outputs": [],
   "source": [
    "from polls.models import Poll"
   ]
  },
  {
   "cell_type": "code",
   "execution_count": 3,
   "id": "eb895be9",
   "metadata": {},
   "outputs": [
    {
     "ename": "NameError",
     "evalue": "name 'polls' is not defined",
     "output_type": "error",
     "traceback": [
      "\u001b[1;31m---------------------------------------------------------------------------\u001b[0m",
      "\u001b[1;31mNameError\u001b[0m                                 Traceback (most recent call last)",
      "\u001b[1;32m<ipython-input-3-7518ffeddb32>\u001b[0m in \u001b[0;36m<module>\u001b[1;34m\u001b[0m\n\u001b[1;32m----> 1\u001b[1;33m \u001b[1;32mfor\u001b[0m \u001b[0mpoll\u001b[0m \u001b[1;32min\u001b[0m \u001b[0mpolls\u001b[0m\u001b[1;33m:\u001b[0m\u001b[1;33m\u001b[0m\u001b[1;33m\u001b[0m\u001b[0m\n\u001b[0m\u001b[0;32m      2\u001b[0m     \u001b[0mprint\u001b[0m\u001b[1;33m(\u001b[0m\u001b[0mpoll\u001b[0m\u001b[1;33m.\u001b[0m\u001b[0mname\u001b[0m\u001b[1;33m)\u001b[0m\u001b[1;33m\u001b[0m\u001b[1;33m\u001b[0m\u001b[0m\n",
      "\u001b[1;31mNameError\u001b[0m: name 'polls' is not defined"
     ]
    }
   ],
   "source": [
    "for poll in polls:\n",
    "    print(poll.name)"
   ]
  },
  {
   "cell_type": "code",
   "execution_count": 4,
   "id": "40f72b22",
   "metadata": {},
   "outputs": [],
   "source": [
    "polls = Poll.objects.all()"
   ]
  },
  {
   "cell_type": "code",
   "execution_count": 5,
   "id": "9329af9d",
   "metadata": {},
   "outputs": [
    {
     "name": "stdout",
     "output_type": "stream",
     "text": [
      "Maja\n",
      "Ala\n",
      "Ala\n"
     ]
    }
   ],
   "source": [
    "for poll in polls:\n",
    "    print(poll.name)"
   ]
  },
  {
   "cell_type": "code",
   "execution_count": 7,
   "id": "4c0016ef",
   "metadata": {},
   "outputs": [
    {
     "ename": "NameError",
     "evalue": "name 'q2' is not defined",
     "output_type": "error",
     "traceback": [
      "\u001b[1;31m---------------------------------------------------------------------------\u001b[0m",
      "\u001b[1;31mNameError\u001b[0m                                 Traceback (most recent call last)",
      "\u001b[1;32m<ipython-input-7-c518ccd05672>\u001b[0m in \u001b[0;36m<module>\u001b[1;34m\u001b[0m\n\u001b[1;32m----> 1\u001b[1;33m \u001b[0mq2\u001b[0m\u001b[1;33m.\u001b[0m\u001b[0mquestion_text\u001b[0m\u001b[1;33m\u001b[0m\u001b[1;33m\u001b[0m\u001b[0m\n\u001b[0m",
      "\u001b[1;31mNameError\u001b[0m: name 'q2' is not defined"
     ]
    }
   ],
   "source": []
  },
  {
   "cell_type": "code",
   "execution_count": 8,
   "id": "da6d4a75",
   "metadata": {},
   "outputs": [],
   "source": [
    "q0 = Question.objects.create(question_text=\"Do you like Django?\")\n",
    "q1 = Question.objects.create(question_text=\"Do you like Python?\")\n",
    "q2 = Question.objects.create(question_text=\"Do you like JavaScript?\")"
   ]
  },
  {
   "cell_type": "code",
   "execution_count": 9,
   "id": "62faaf45",
   "metadata": {},
   "outputs": [],
   "source": [
    "q3 = Question.objects.create(question_text=\"Do you like HTML?\")\n",
    "q4 = Question.objects.create(question_text=\"Do you like C++?\")\n",
    "q5 = Question.objects.create(question_text=\"Do you like SAS?\")\n",
    "q6 = Question.objects.create(question_text=\"Do you like Math?\")\n",
    "q7 = Question.objects.create(question_text=\"Do you like IT?\")\n",
    "q8 = Question.objects.create(question_text=\"Do you like Biology?\")"
   ]
  },
  {
   "cell_type": "code",
   "execution_count": 11,
   "id": "38f1c5a8",
   "metadata": {},
   "outputs": [],
   "source": [
    "p1 = Poll.objects.all()[0]\n",
    "p2 = Poll.objects.all()[1]\n",
    "p3 = Poll.objects.all()[2]\n",
    "\n",
    "\n",
    "\n",
    "q0.poll = p1\n",
    "q1.poll = p1\n",
    "q2.poll = p1\n",
    "q3.poll = p2\n",
    "q4.poll = p2\n",
    "q5.poll = p2\n",
    "q6.poll = p3\n",
    "q7.poll = p3\n",
    "q8.poll = p3"
   ]
  },
  {
   "cell_type": "code",
   "execution_count": 12,
   "id": "d2ac185b",
   "metadata": {},
   "outputs": [
    {
     "data": {
      "text/plain": [
       "<QuerySet []>"
      ]
     },
     "execution_count": 12,
     "metadata": {},
     "output_type": "execute_result"
    }
   ],
   "source": [
    "p2.questions.all()"
   ]
  },
  {
   "cell_type": "code",
   "execution_count": 13,
   "id": "52c7d905",
   "metadata": {},
   "outputs": [],
   "source": [
    "q0.save()\n",
    "q1.save()\n",
    "q2.save()\n",
    "q3.save()\n",
    "q4.save()\n",
    "q5.save()\n",
    "q6.save()\n",
    "q7.save()\n",
    "q8.save()"
   ]
  },
  {
   "cell_type": "code",
   "execution_count": 14,
   "id": "a3a0fc5d",
   "metadata": {},
   "outputs": [
    {
     "data": {
      "text/plain": [
       "<QuerySet [<Question: Question object (13)>, <Question: Question object (14)>, <Question: Question object (15)>]>"
      ]
     },
     "execution_count": 14,
     "metadata": {},
     "output_type": "execute_result"
    }
   ],
   "source": [
    "p2.questions.all()"
   ]
  },
  {
   "cell_type": "code",
   "execution_count": 16,
   "id": "34771133",
   "metadata": {},
   "outputs": [
    {
     "data": {
      "text/plain": [
       "<QuerySet [<Question: Question object (16)>, <Question: Question object (17)>, <Question: Question object (18)>]>"
      ]
     },
     "execution_count": 16,
     "metadata": {},
     "output_type": "execute_result"
    }
   ],
   "source": [
    "p3.questions.all()"
   ]
  },
  {
   "cell_type": "code",
   "execution_count": 1,
   "id": "f8c0c33b",
   "metadata": {},
   "outputs": [
    {
     "ename": "NameError",
     "evalue": "name 'p1' is not defined",
     "output_type": "error",
     "traceback": [
      "\u001b[1;31m---------------------------------------------------------------------------\u001b[0m",
      "\u001b[1;31mNameError\u001b[0m                                 Traceback (most recent call last)",
      "\u001b[1;32m<ipython-input-1-10a4eab96dec>\u001b[0m in \u001b[0;36m<module>\u001b[1;34m\u001b[0m\n\u001b[1;32m----> 1\u001b[1;33m \u001b[0mp1\u001b[0m\u001b[1;33m.\u001b[0m\u001b[0mquestions\u001b[0m\u001b[1;33m.\u001b[0m\u001b[0mall\u001b[0m\u001b[1;33m(\u001b[0m\u001b[1;33m)\u001b[0m\u001b[1;33m\u001b[0m\u001b[1;33m\u001b[0m\u001b[0m\n\u001b[0m",
      "\u001b[1;31mNameError\u001b[0m: name 'p1' is not defined"
     ]
    }
   ],
   "source": [
    "p1.questions.all()"
   ]
  },
  {
   "cell_type": "code",
   "execution_count": 2,
   "id": "01fb6488",
   "metadata": {},
   "outputs": [],
   "source": [
    "import os\n",
    "os.environ[\"DJANGO_ALLOW_ASYNC_UNSAFE\"] = \"true\""
   ]
  },
  {
   "cell_type": "code",
   "execution_count": 3,
   "id": "8dd6403b",
   "metadata": {},
   "outputs": [],
   "source": [
    "from polls.models import Poll"
   ]
  },
  {
   "cell_type": "code",
   "execution_count": null,
   "id": "b6051f09",
   "metadata": {},
   "outputs": [],
   "source": []
  }
 ],
 "metadata": {
  "kernelspec": {
   "display_name": "Django Shell-Plus",
   "language": "python",
   "name": "django_extensions"
  },
  "language_info": {
   "codemirror_mode": {
    "name": "ipython",
    "version": 3
   },
   "file_extension": ".py",
   "mimetype": "text/x-python",
   "name": "python",
   "nbconvert_exporter": "python",
   "pygments_lexer": "ipython3",
   "version": "3.9.0"
  }
 },
 "nbformat": 4,
 "nbformat_minor": 5
}
